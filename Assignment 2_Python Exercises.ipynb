{
 "cells": [
  {
   "cell_type": "markdown",
   "id": "ec74cbc7",
   "metadata": {},
   "source": [
    "# 1 store a message in a variable, and then print that message"
   ]
  },
  {
   "cell_type": "code",
   "execution_count": 77,
   "id": "bbae8d25",
   "metadata": {},
   "outputs": [
    {
     "name": "stdout",
     "output_type": "stream",
     "text": [
      "Karnataka-One state Many Worlds\n"
     ]
    }
   ],
   "source": [
    "a= \"Karnataka-One state Many Worlds\"\n",
    "print(a)"
   ]
  },
  {
   "cell_type": "markdown",
   "id": "56e39d4f",
   "metadata": {},
   "source": [
    "# 2 print the new message in same variable"
   ]
  },
  {
   "cell_type": "code",
   "execution_count": 78,
   "id": "3b8d39e5",
   "metadata": {},
   "outputs": [
    {
     "name": "stdout",
     "output_type": "stream",
     "text": [
      "Karnataka-One state Many Worlds\n",
      "Bangalore is beautiful city\n"
     ]
    }
   ],
   "source": [
    "a= \"Karnataka-One state Many Worlds\"\n",
    "print(a)\n",
    "b= \"Bangalore is beautiful city\"\n",
    "a=b\n",
    "print(a)"
   ]
  },
  {
   "cell_type": "markdown",
   "id": "0e36e455",
   "metadata": {},
   "source": [
    "# 3 print a message to a person"
   ]
  },
  {
   "cell_type": "code",
   "execution_count": 79,
   "id": "2695c2d5",
   "metadata": {},
   "outputs": [
    {
     "name": "stdout",
     "output_type": "stream",
     "text": [
      "Hello Eric, would you like to learn some Python today?\n"
     ]
    }
   ],
   "source": [
    "c=\"Eric\"\n",
    "print(f\"Hello {c}, would you like to learn some Python today?\")"
   ]
  },
  {
   "cell_type": "markdown",
   "id": "8c14ea56",
   "metadata": {},
   "source": [
    "# 4 print the quote and the name of its author"
   ]
  },
  {
   "cell_type": "code",
   "execution_count": 80,
   "id": "bf1c27de",
   "metadata": {},
   "outputs": [
    {
     "name": "stdout",
     "output_type": "stream",
     "text": [
      "Albert Einstein once said, If A is a success in life, then A equals X+Y+Z. X is Work; Y is play; and Z is Keeping Your Mouth Shut.\n"
     ]
    }
   ],
   "source": [
    "author= \"Albert Einstein\"\n",
    "quote= \"If A is a success in life, then A equals X+Y+Z. X is Work; Y is play; and Z is Keeping Your Mouth Shut.\"\n",
    "print(f\"{author} once said, {quote}\")"
   ]
  },
  {
   "cell_type": "markdown",
   "id": "66cee025",
   "metadata": {},
   "source": [
    "# 5 store quote in a new variable and print"
   ]
  },
  {
   "cell_type": "code",
   "execution_count": 81,
   "id": "1cbbb6f0",
   "metadata": {},
   "outputs": [
    {
     "name": "stdout",
     "output_type": "stream",
     "text": [
      "Albert Einstein once said, If A is a success in life, then A equals X+Y+Z. X is Work; Y is play; and Z is Keeping Your Mouth Shut.\n"
     ]
    }
   ],
   "source": [
    "famous_person= \"Albert Einstein\"\n",
    "quote= \"If A is a success in life, then A equals X+Y+Z. X is Work; Y is play; and Z is Keeping Your Mouth Shut.\"\n",
    "message = (f\"{famous_person} once said, {quote}\")\n",
    "print(message)"
   ]
  },
  {
   "cell_type": "markdown",
   "id": "5db4d04c",
   "metadata": {},
   "source": [
    "# 6 mathematical operations"
   ]
  },
  {
   "cell_type": "code",
   "execution_count": 82,
   "id": "702ee4e5",
   "metadata": {},
   "outputs": [
    {
     "name": "stdout",
     "output_type": "stream",
     "text": [
      "5+3= 8\n",
      "10-2= 8\n",
      "4*2= 8\n",
      "16/2= 8\n"
     ]
    }
   ],
   "source": [
    "c=5+3\n",
    "d=10-2\n",
    "e=4*2\n",
    "f=16/2\n",
    "\n",
    "print(\"5+3=\",c)\n",
    "print(\"10-2=\",d)\n",
    "print(\"4*2=\",e)\n",
    "print(\"16/2=\",int(f))"
   ]
  },
  {
   "cell_type": "markdown",
   "id": "f48689f7",
   "metadata": {},
   "source": [
    "# 7 print favorite number"
   ]
  },
  {
   "cell_type": "code",
   "execution_count": 83,
   "id": "e7465119",
   "metadata": {},
   "outputs": [
    {
     "name": "stdout",
     "output_type": "stream",
     "text": [
      "My Favorite Number is 8\n"
     ]
    }
   ],
   "source": [
    "favorite_number = 8\n",
    "message= (f\"My Favorite Number is {favorite_number}\")\n",
    "print(message)"
   ]
  },
  {
   "cell_type": "code",
   "execution_count": 12,
   "id": "6b164261",
   "metadata": {},
   "outputs": [
    {
     "name": "stdout",
     "output_type": "stream",
     "text": [
      "My favorite number is 2\n"
     ]
    }
   ],
   "source": [
    "favorite_number= 2\n",
    "print(\"My favorite number is {}\".format(favorite_number))"
   ]
  },
  {
   "cell_type": "markdown",
   "id": "bad1163a",
   "metadata": {},
   "source": [
    "# 8 print name and date on top"
   ]
  },
  {
   "cell_type": "code",
   "execution_count": 85,
   "id": "3f566f2d",
   "metadata": {},
   "outputs": [
    {
     "name": "stdout",
     "output_type": "stream",
     "text": [
      "Name: vinutha\n",
      "Date: 2021-09-02\n",
      "5+3= 8\n",
      "10-2= 8\n",
      "4*2= 8\n",
      "16/2= 8\n",
      "\n",
      "Name: vinutha\n",
      "Date: 2021-09-02\n",
      "My Favorite Number is 4\n"
     ]
    }
   ],
   "source": [
    "# 6 mathematical operations\n",
    "name= \"vinutha\"\n",
    "print(\"Name:\",name)\n",
    "\n",
    "from datetime import datetime\n",
    "print(\"Date:\",date.today())           #print today's date \n",
    "c=5+3\n",
    "d=10-2\n",
    "e=4*2\n",
    "f=16/2\n",
    "print(\"5+3=\",c)\n",
    "print(\"10-2=\",d)\n",
    "print(\"4*2=\",e)\n",
    "print(\"16/2=\",int(f))      # to represent as int data type\n",
    "\n",
    "# 7 print favorite number\n",
    "name= \"vinutha\"\n",
    "print(\"\\nName:\",name)\n",
    "\n",
    "from datetime import datetime\n",
    "print(\"Date:\",date.today())\n",
    "\n",
    "favorite_number = 4\n",
    "message= (f\"My Favorite Number is {favorite_number}\")   # formatted printing\n",
    "print(message)"
   ]
  },
  {
   "cell_type": "code",
   "execution_count": 63,
   "id": "c6022ba9",
   "metadata": {},
   "outputs": [
    {
     "name": "stdout",
     "output_type": "stream",
     "text": [
      "2021-09-02 13:46:57.581701\n"
     ]
    }
   ],
   "source": [
    "#print today's date time            \n",
    "\n",
    "from datetime import datetime       #datetime is the module\n",
    "print(datetime.today())  "
   ]
  },
  {
   "cell_type": "code",
   "execution_count": 64,
   "id": "9d507fd5",
   "metadata": {},
   "outputs": [
    {
     "name": "stdout",
     "output_type": "stream",
     "text": [
      "2021-09-02\n"
     ]
    }
   ],
   "source": [
    "#print today's date \n",
    "\n",
    "from datetime import date     \n",
    "print(date.today())  "
   ]
  },
  {
   "cell_type": "code",
   "execution_count": 65,
   "id": "42a345a2",
   "metadata": {},
   "outputs": [
    {
     "name": "stdout",
     "output_type": "stream",
     "text": [
      "2021-09-02 13:47:03.954983\n",
      "2021-09-14 13:47:03.954983\n"
     ]
    }
   ],
   "source": [
    "#print new date time after addition of days to the current date\n",
    "\n",
    "from datetime import datetime, timedelta           # timedelta() - Difference between two datetime values\n",
    "print(datetime.today())  #print today's date time\n",
    "new_date = datetime.today() + timedelta(12)\n",
    "print (new_date)    "
   ]
  },
  {
   "cell_type": "markdown",
   "id": "e5b53ba7",
   "metadata": {},
   "source": [
    "# 9 print names in a list"
   ]
  },
  {
   "cell_type": "code",
   "execution_count": 76,
   "id": "6eecd3bd",
   "metadata": {},
   "outputs": [
    {
     "name": "stdout",
     "output_type": "stream",
     "text": [
      "Gowthami\n",
      "Shwetha\n",
      "Deepa\n",
      "Priya\n",
      "Shilpa\n",
      "Kavya\n"
     ]
    }
   ],
   "source": [
    "names=[\"Gowthami\",\"Shwetha\",\"Deepa\",\"Priya\",\"Shilpa\",\"Kavya\"]\n",
    "print(names[0])\n",
    "print(names[1])\n",
    "print(names[2])\n",
    "print(names[3])\n",
    "print(names[4])\n",
    "print(names[5])"
   ]
  },
  {
   "cell_type": "markdown",
   "id": "cdeeb08b",
   "metadata": {},
   "source": [
    "# 10 print a message to the names in list"
   ]
  },
  {
   "cell_type": "code",
   "execution_count": 75,
   "id": "083abbac",
   "metadata": {},
   "outputs": [
    {
     "name": "stdout",
     "output_type": "stream",
     "text": [
      "Hey Gowthami how you doing?\n",
      "Hey Shwetha how you doing?\n",
      "Hey Deepa how you doing?\n",
      "Hey Priya how you doing?\n",
      "Hey Shilpa how you doing?\n",
      "Hey Kavya how you doing?\n"
     ]
    }
   ],
   "source": [
    "names=[\"Gowthami\",\"Shwetha\",\"Deepa\",\"Priya\",\"Shilpa\",\"Kavya\"]\n",
    "print(f\"Hey {names[0]} how you doing?\")\n",
    "print(f\"Hey {names[1]} how you doing?\")\n",
    "print(f\"Hey {names[2]} how you doing?\")\n",
    "print(f\"Hey {names[3]} how you doing?\")\n",
    "print(f\"Hey {names[4]} how you doing?\")\n",
    "print(f\"Hey {names[5]} how you doing?\")"
   ]
  },
  {
   "cell_type": "markdown",
   "id": "25b1f6b7",
   "metadata": {},
   "source": [
    "# 11 print a series of statements"
   ]
  },
  {
   "cell_type": "code",
   "execution_count": 101,
   "id": "0c656c1e",
   "metadata": {},
   "outputs": [
    {
     "name": "stdout",
     "output_type": "stream",
     "text": [
      "I would like to ride a cycle\n"
     ]
    }
   ],
   "source": [
    "me = ['I would','I will','I shall']\n",
    "do =['own ','travell in','ride']\n",
    "vehicle =['bike','car','cycle']\n",
    "import random\n",
    "print(random.choice(me)+\" like to \" + random.choice(do) +\" a \"+ random.choice(vehicle))"
   ]
  }
 ],
 "metadata": {
  "kernelspec": {
   "display_name": "Python 3",
   "language": "python",
   "name": "python3"
  },
  "language_info": {
   "codemirror_mode": {
    "name": "ipython",
    "version": 3
   },
   "file_extension": ".py",
   "mimetype": "text/x-python",
   "name": "python",
   "nbconvert_exporter": "python",
   "pygments_lexer": "ipython3",
   "version": "3.8.8"
  }
 },
 "nbformat": 4,
 "nbformat_minor": 5
}
