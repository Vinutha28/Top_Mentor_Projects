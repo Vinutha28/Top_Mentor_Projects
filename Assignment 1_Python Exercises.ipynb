{
 "cells": [
  {
   "cell_type": "markdown",
   "id": "9ab53706",
   "metadata": {},
   "source": [
    "# Mailing Address"
   ]
  },
  {
   "cell_type": "code",
   "execution_count": 6,
   "id": "447e89cc",
   "metadata": {},
   "outputs": [
    {
     "name": "stdout",
     "output_type": "stream",
     "text": [
      "To\n",
      "Vinutha R\n",
      "#105, SiverwoodEnclave\n",
      "1st Cross Road\n",
      "Tatanagar\n",
      "Bangalore-560092\n"
     ]
    }
   ],
   "source": [
    "print(\"To\")\n",
    "print(\"Vinutha R\")\n",
    "print(\"#105, SiverwoodEnclave\")\n",
    "print(\"1st Cross Road\")\n",
    "print(\"Tatanagar\")\n",
    "print(\"Bangalore-560092\")"
   ]
  },
  {
   "cell_type": "code",
   "execution_count": 36,
   "id": "dab2fb67",
   "metadata": {},
   "outputs": [
    {
     "name": "stdout",
     "output_type": "stream",
     "text": [
      "To\n",
      "Vinutha R\n",
      "Address: #105, SiverwoodEnclave\n",
      "1st Cross Road\n",
      "Tatanagar\n",
      "Bangalore-560092\n"
     ]
    }
   ],
   "source": [
    "print(\"To\")\n",
    "print(\"Vinutha R\")\n",
    "Address=\"#105, SiverwoodEnclave\" \"\\n1st Cross Road\" \"\\nTatanagar\" \"\\nBangalore-560092\"\n",
    "print(\"Address:\", Address)"
   ]
  },
  {
   "cell_type": "markdown",
   "id": "4c1f4e40",
   "metadata": {},
   "source": [
    "# Say Hello"
   ]
  },
  {
   "cell_type": "code",
   "execution_count": 8,
   "id": "f7c1f8f9",
   "metadata": {},
   "outputs": [
    {
     "name": "stdout",
     "output_type": "stream",
     "text": [
      "enter your name-Vinutha\n",
      "Hello Vinutha\n"
     ]
    }
   ],
   "source": [
    "a=input(\"enter your name-\")\n",
    "print(\"Hello\",a)"
   ]
  },
  {
   "cell_type": "markdown",
   "id": "cb8d5dd3",
   "metadata": {},
   "source": [
    "# Area of a Room"
   ]
  },
  {
   "cell_type": "code",
   "execution_count": 17,
   "id": "f4bb0732",
   "metadata": {},
   "outputs": [
    {
     "name": "stdout",
     "output_type": "stream",
     "text": [
      "enter width of the room in meters- 3.5\n",
      "enter lenth of the room in meters- 4.5\n",
      "Area of the room is 15.75 square meters\n"
     ]
    }
   ],
   "source": [
    "a= float(input(\"enter width of the room in meters- \"))\n",
    "b= float(input(\"enter lenth of the room in meters- \"))\n",
    "Area=a*b\n",
    "print(f\"Area of the room is {Area} square meters\")"
   ]
  },
  {
   "cell_type": "markdown",
   "id": "eb4849ed",
   "metadata": {},
   "source": [
    "# Area of a Field"
   ]
  },
  {
   "cell_type": "code",
   "execution_count": 43,
   "id": "83bea709",
   "metadata": {},
   "outputs": [
    {
     "name": "stdout",
     "output_type": "stream",
     "text": [
      "enter width of the field in feet- 400\n",
      "enter lenth of the field in feet- 300\n",
      "Area of the Farmer's field is 2.7548209366391183 acres\n"
     ]
    }
   ],
   "source": [
    "a= float(input(\"enter width of the field in feet- \"))\n",
    "b= float(input(\"enter lenth of the field in feet- \"))\n",
    "c=a*b\n",
    "Area=c/43560                                           #Feet to Acre Conversion= Area in Feet/23560 \n",
    "print(f\"Area of the Farmer's field is {Area} acres\")"
   ]
  },
  {
   "cell_type": "markdown",
   "id": "4706dde3",
   "metadata": {},
   "source": [
    "# Bottle Deposits"
   ]
  },
  {
   "cell_type": "code",
   "execution_count": 71,
   "id": "5464fe2a",
   "metadata": {},
   "outputs": [
    {
     "name": "stdout",
     "output_type": "stream",
     "text": [
      "Enter the number of containers holding 1 liter or less: 999\n",
      "Enter the number of containers holding more than 1 liter: 999\n",
      "refund received for returning both type of containers 349.65\n",
      "\n",
      "Your refund is 349.65 $\n"
     ]
    }
   ],
   "source": [
    "d1 = 0.10    # deposit of drink containers holding one litre or less\n",
    "d2 = 0.25    # deposit of drink containers holding more than one litre \n",
    "n_less_one = int(input(\"Enter the number of containers holding 1 liter or less: \"))\n",
    "n_more_one= int(input(\"Enter the number of containers holding more than 1 liter: \"))\n",
    "return_refund = (d1 * n_less_one) + (d2 * n_more_one)      \n",
    "print(\"refund received for returning both type of containers\",return_refund)\n",
    "refund = round(return_refund,2)                            \n",
    "print(f\"\\nYour refund is {refund} $\")"
   ]
  },
  {
   "cell_type": "code",
   "execution_count": 54,
   "id": "7d1df6de",
   "metadata": {},
   "outputs": [
    {
     "data": {
      "text/plain": [
       "5.67"
      ]
     },
     "execution_count": 54,
     "metadata": {},
     "output_type": "execute_result"
    }
   ],
   "source": [
    "round(5.666666,ndigits=2)   #Signature: round(number, ndigits=None) \n",
    "                            #Docstring: Round a number to a given precision in decimal digits\n",
    "\n"
   ]
  },
  {
   "cell_type": "markdown",
   "id": "793c6215",
   "metadata": {},
   "source": [
    "# Tax and Tip"
   ]
  },
  {
   "cell_type": "code",
   "execution_count": 139,
   "id": "506f45f7",
   "metadata": {},
   "outputs": [
    {
     "name": "stdout",
     "output_type": "stream",
     "text": [
      "\n",
      "Enter charge for food-  Rs.500\n",
      "\n",
      "Sub Total:  500.0\n",
      "Service Tip:  90.0\n",
      "%GST:  90.0\n",
      "Grand Total:  680.0\n"
     ]
    }
   ],
   "source": [
    "sub_total = float(input(\"\\nEnter charge for food-  Rs.\"))\n",
    "\n",
    "tip_percentage= 0.18\n",
    "GST_percentage= 0.18\n",
    "service_tip = (sub_total * tip_percentage)\n",
    "GST = (sub_total * GST_percentage)\n",
    "grand_total = sub_total + service_tip + GST     \n",
    "\n",
    "print('\\nSub Total: ',sub_total)\n",
    "print('Service Tip: ', service_tip)\n",
    "print('%GST: ', GST)\n",
    "print('Grand Total: ', grand_total)"
   ]
  },
  {
   "cell_type": "code",
   "execution_count": null,
   "id": "93c7531a",
   "metadata": {},
   "outputs": [],
   "source": [
    "#the values are displayed using two decimal places"
   ]
  },
  {
   "cell_type": "code",
   "execution_count": 124,
   "id": "b1bd116d",
   "metadata": {},
   "outputs": [
    {
     "name": "stdout",
     "output_type": "stream",
     "text": [
      "\n",
      "Enter charge for food-  Rs.500\n",
      "\n",
      "Sub Total:  500.00\n",
      "Service Tip:  90.00\n",
      "%GST:  90.00\n",
      "Grand Total:  680.00\n"
     ]
    }
   ],
   "source": [
    "sub_total = float(input(\"\\nEnter charge for food-  Rs.\"))\n",
    "\n",
    "tip_percentage= 0.18\n",
    "GST_percentage= 0.18\n",
    "service_tip = (sub_total * tip_percentage)\n",
    "GST = (sub_total * GST_percentage)\n",
    "grand_total = sub_total + service_tip + GST     \n",
    "\n",
    "print('\\nSub Total: ',format(sub_total, '.2f'))\n",
    "print('Service Tip: ',format(service_tip, '.2f'))\n",
    "print('%GST: ', format(GST, '.2f'))\n",
    "print('Grand Total: ', format(grand_total, '.2f'))"
   ]
  },
  {
   "cell_type": "markdown",
   "id": "f3ad89fc",
   "metadata": {},
   "source": [
    "# Fuel Efficiency"
   ]
  },
  {
   "cell_type": "code",
   "execution_count": 138,
   "id": "5831db97",
   "metadata": {},
   "outputs": [
    {
     "name": "stdout",
     "output_type": "stream",
     "text": [
      "Enter miles driven: 8\n",
      "Enter gallons used: 8\n",
      "\n",
      "In United States, fuel efficiency for vehicles is 1.0 mpg\n",
      "\n",
      "In Canada, fuel efficiency for vehicles is 235.215 L/100km\n"
     ]
    }
   ],
   "source": [
    "# Get miles driven from the user\n",
    "miles_driven = float(input(\"Enter miles driven: \"))\n",
    "# Get gallons used from the user\n",
    "gallons_used = float(input(\"Enter gallons used: \"))\n",
    "\n",
    "\n",
    "miles_per_gallon = miles_driven / gallons_used\n",
    "\n",
    "#formula to convert MPG to L/100KM = 235.215/(1 US mpg) = 235.215 L/100 km\n",
    "litres_per_Hundred_Kilometres = 235.215/ miles_per_gallon\n",
    "\n",
    "print(f\"\\nIn United States, fuel efficiency for vehicles is {miles_per_gallon} mpg\" )\n",
    "print(f\"\\nIn Canada, fuel efficiency for vehicles is {litres_per_Hundred_Kilometres} L/100km\" )"
   ]
  },
  {
   "cell_type": "markdown",
   "id": "394bf16f",
   "metadata": {},
   "source": [
    "# Height Units"
   ]
  },
  {
   "cell_type": "code",
   "execution_count": 151,
   "id": "22f7fa34",
   "metadata": {},
   "outputs": [
    {
     "name": "stdout",
     "output_type": "stream",
     "text": [
      "Enter your height in Feet and Inches: \n",
      "Feet: 5\n",
      "Inches: 4\n",
      "Your Height is 162.56 cm \n"
     ]
    }
   ],
   "source": [
    "print(\"Enter your height in Feet and Inches: \")\n",
    "\n",
    "h_ft = int(input(\"Feet: \"))\n",
    "h_inch = int(input(\"Inches: \"))\n",
    "\n",
    "h_inch = h_inch + h_ft * 12     # 1 foot = 12 inches\n",
    "\n",
    "h_cm = h_inch * 2.54            # 1 inch = 2.54 cm\n",
    "\n",
    "print(f\"Your Height is {h_cm} cm \")"
   ]
  },
  {
   "cell_type": "code",
   "execution_count": 162,
   "id": "30377ff4",
   "metadata": {},
   "outputs": [
    {
     "name": "stdout",
     "output_type": "stream",
     "text": [
      "Enter your height in Feet and Inches: \n",
      "Feet: 5\n",
      "Inches: 4\n",
      "Your Height is : 162 cm \n"
     ]
    }
   ],
   "source": [
    "print(\"Enter your height in Feet and Inches: \")\n",
    "\n",
    "h_ft = int(input(\"Feet: \"))\n",
    "h_inch = int(input(\"Inches: \"))\n",
    "\n",
    "h_inch = h_inch + h_ft * 12     # 1 foot = 12 inches\n",
    "\n",
    "h_cm = round((h_inch * 2.54),1)            # 1 inch = 2.54 cm\n",
    "\n",
    "print(f\"Your Height is : %d cm \" %h_cm)"
   ]
  },
  {
   "cell_type": "code",
   "execution_count": null,
   "id": "2fe5a879",
   "metadata": {},
   "outputs": [],
   "source": []
  }
 ],
 "metadata": {
  "kernelspec": {
   "display_name": "Python 3",
   "language": "python",
   "name": "python3"
  },
  "language_info": {
   "codemirror_mode": {
    "name": "ipython",
    "version": 3
   },
   "file_extension": ".py",
   "mimetype": "text/x-python",
   "name": "python",
   "nbconvert_exporter": "python",
   "pygments_lexer": "ipython3",
   "version": "3.8.8"
  }
 },
 "nbformat": 4,
 "nbformat_minor": 5
}
